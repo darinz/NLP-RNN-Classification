{
 "cells": [
  {
   "cell_type": "code",
   "execution_count": 1,
   "metadata": {
    "collapsed": false,
    "jupyter": {
     "outputs_hidden": false
    }
   },
   "outputs": [],
   "source": [
    "%matplotlib inline"
   ]
  },
  {
   "cell_type": "markdown",
   "metadata": {},
   "source": [
    "# NLP: RNN Name Classification\n",
    "\n",
    "This tutorial is adapted from [the PyTorch Tutorials](https://pytorch.org/tutorials/) and [Sean Robertson](https://github.com/spro), valuable references for learning the fundamentals of Natural Language Processing in PyTorch. We highly recommend exploring other tutorials for deeper understanding and additional topics.\n",
    "\n",
    "In this tutorial we'll guide you through building and training your own RNN, starting from scratch. We'll break down the process into bite-sized steps, focusing on the essential building blocks of NLP from data preprocessing to training and evaluation. By crafting each component yourself, you'll gain a deep understanding of how RNNs handle text data and make confident predictions on words. \n",
    "\n",
    "You'll learn to employ a character-level recurrent neural network (RNN) for the purpose of classifying surnames based on their spelling. The RNN processes each word character by character, generating a prediction and updating its internal hidden state at each step. The final prediction, representing the most likely class (i.e., language of origin), is derived from the final hidden state.\n",
    "\n",
    "Specifically, we'll train the RNN on a dataset of several thousand surnames spanning 18 distinct languages. This approach holds promise for exploring the relationship between orthography and linguistic ancestry, potentially yielding insights into language evolution and migration patterns:\n",
    "\n",
    "::\n",
    "\n",
    "    predict('Hinton')\n",
    "    > Hinton\n",
    "    (-0.47) Scottish\n",
    "    (-1.52) English\n",
    "    (-3.57) Irish\n",
    "\n",
    "    predict('Schmidhuber')\n",
    "    > Schmidhuber\n",
    "    (-0.19) German\n",
    "    (-2.48) Czech\n",
    "    (-2.68) Dutch"
   ]
  },
  {
   "cell_type": "markdown",
   "metadata": {},
   "source": [
    "## Preparing the Data\n",
    "\n",
    "The dataset resides within the ``data/names`` directory and comprises 18 text files, each named according to the language it represents (e.g., ``[English].txt``). Each file contains a collection of surnames, presented one name per line. While most names are already in Romanized format, a preprocessing step to convert them from Unicode to ASCII is necessary for compatibility with subsequent modeling phases.\n",
    "\n",
    "The preprocessing phase culminates in the construction of a structured dictionary, designed to facilitate model training and analysis. This dictionary adopts the format ``{language: [names ...]}``, effectively associating each language with its corresponding list of surnames. The use of generic variable names, such as ``category`` and ``line``, promotes code reusability and adaptability for future endeavors involving different data types and categories. "
   ]
  },
  {
   "cell_type": "code",
   "execution_count": 2,
   "metadata": {},
   "outputs": [],
   "source": [
    "# Import libraries for file handling, text processing, and character operations\n",
    "\n",
    "# `io` module for efficient file I/O operations\n",
    "from io import open\n",
    "\n",
    "# `glob` module for finding files based on patterns\n",
    "import glob\n",
    "\n",
    "# `os` module for interacting with the operating system and file paths\n",
    "import os\n",
    "\n",
    "# `unicodedata` module for working with Unicode characters and normalization\n",
    "import unicodedata\n",
    "\n",
    "# `string` module for string constants and methods, including punctuation and whitespace\n",
    "import string"
   ]
  },
  {
   "cell_type": "code",
   "execution_count": 3,
   "metadata": {},
   "outputs": [
    {
     "name": "stdout",
     "output_type": "stream",
     "text": [
      "['data/names/Czech.txt', 'data/names/German.txt', 'data/names/Arabic.txt', 'data/names/Japanese.txt', 'data/names/Chinese.txt', 'data/names/Vietnamese.txt', 'data/names/Russian.txt', 'data/names/French.txt', 'data/names/Irish.txt', 'data/names/English.txt', 'data/names/Spanish.txt', 'data/names/Greek.txt', 'data/names/Italian.txt', 'data/names/Portuguese.txt', 'data/names/Scottish.txt', 'data/names/Dutch.txt', 'data/names/Korean.txt', 'data/names/Polish.txt']\n"
     ]
    }
   ],
   "source": [
    "# Define a function to find files matching a pattern in a given directory\n",
    "def find_files(path: str) -> list[str]:\n",
    "    \"\"\"\n",
    "    Efficiently finds files matching a pattern within a specified directory.\n",
    "\n",
    "    Args:\n",
    "        path (str): The directory path to search, including a wildcard pattern for file names.\n",
    "\n",
    "    Returns:\n",
    "        list[str]: A list of full file paths that match the pattern.\n",
    "    \"\"\"\n",
    "\n",
    "    return glob.glob(path) # Use the glob.glob function to perform the file search\n",
    "\n",
    "# Example usage:\n",
    "text_files = find_files(\"data/names/*.txt\")  # Find text files in the 'data/names' directory\n",
    "print(text_files)"
   ]
  },
  {
   "cell_type": "code",
   "execution_count": 4,
   "metadata": {},
   "outputs": [],
   "source": [
    "# Define the set of allowed characters for ASCII conversion\n",
    "allowed_chars = string.ascii_letters + \" .,;'\"  # Includes letters, spaces, and common punctuation\n",
    "n_letters = len(allowed_chars)  # Calculate the total number of allowed characters"
   ]
  },
  {
   "cell_type": "code",
   "execution_count": 5,
   "metadata": {},
   "outputs": [
    {
     "name": "stdout",
     "output_type": "stream",
     "text": [
      "Slusarski\n"
     ]
    }
   ],
   "source": [
    "# Define a function to convert Unicode strings to plain ASCII\n",
    "# Thanks to https://stackoverflow.com/a/518232/2809427\n",
    "def ascii_sanitize(text, allowed_chars=allowed_chars):\n",
    "   \"\"\"Converts a Unicode string to plain ASCII, removing diacritics and filtering non-allowed characters.\n",
    "\n",
    "   Args:\n",
    "       text (str): The Unicode string to convert.\n",
    "       allowed_chars (str): A string containing allowed characters.\n",
    "\n",
    "   Returns:\n",
    "       str: The ASCII-converted string.\n",
    "   \"\"\"\n",
    "\n",
    "   normalized = unicodedata.normalize('NFD', text)  # Decompose characters\n",
    "   return ''.join(\n",
    "       c for c in normalized\n",
    "       if unicodedata.category(c) != 'Mn'  # Exclude combining diacritics\n",
    "       and c in allowed_chars  # Keep only allowed characters\n",
    "   )\n",
    "\n",
    "# Example usage: Convert a string with diacritics to ASCII\n",
    "print(ascii_sanitize('Ślusàrski', allowed_chars))  # Output: Slusarski"
   ]
  },
  {
   "cell_type": "code",
   "execution_count": 6,
   "metadata": {},
   "outputs": [],
   "source": [
    "# Initialize data structures for organizing names by language\n",
    "category_lines = {}  # Dictionary to store lists of names for each language\n",
    "all_categories = []  # List to keep track of all unique languages encountered"
   ]
  },
  {
   "cell_type": "code",
   "execution_count": 7,
   "metadata": {},
   "outputs": [],
   "source": [
    "# Define a function to read a file and convert its lines to ASCII\n",
    "def read_lines(filename: str) -> list[str]:\n",
    "    \"\"\"Reads a file, converts its lines to ASCII, and returns the converted lines.\n",
    "\n",
    "    Args:\n",
    "        filename (str): The path to the file to read.\n",
    "\n",
    "    Returns:\n",
    "        list[str]: A list of ASCII-converted lines from the file.\n",
    "    \"\"\"\n",
    "\n",
    "    with open(filename, encoding='utf-8') as file:  # Open the file with UTF-8 encoding for proper character handling\n",
    "        return [ascii_sanitize(line.strip(), allowed_chars) for line in file]  # Process each line efficiently:\n",
    "                                                           #   - line.strip(): Remove leading/trailing whitespace\n",
    "                                                           #   - ascii_sanitize(): Convert to ASCII using allowed characters\n",
    "                                                           #   - List comprehension: Efficiently create a list of converted lines"
   ]
  },
  {
   "cell_type": "code",
   "execution_count": 8,
   "metadata": {},
   "outputs": [
    {
     "name": "stdout",
     "output_type": "stream",
     "text": [
      "Number of unique categories: 18\n",
      "Sample of Italian names:\n",
      "['Abandonato', 'Abatangelo', 'Abatantuono', 'Abate', 'Abategiovanni']\n"
     ]
    }
   ],
   "source": [
    "# Process each text file in the 'data/names' directory\n",
    "for filename in find_files(\"data/names/*.txt\"):\n",
    "    category = os.path.splitext(os.path.basename(filename))[0] # Extract the language category from the file name\n",
    "    all_categories.append(category)  # Add category only once outside the loop\n",
    "    category_lines[category] = read_lines(filename) # Store the lines in the dictionary under the corresponding category\n",
    "\n",
    "# Count the total number of unique language categories\n",
    "n_categories = len(set(all_categories))  # Use a set for unique categories\n",
    "print(f\"Number of unique categories: {n_categories}\") # Print the number of categories\n",
    "\n",
    "# Access and print a sample of names from the 'Italian' category\n",
    "print(\"Sample of Italian names:\")\n",
    "print(category_lines[\"Italian\"][:5]) # Retrieve the first 5 names from the 'Italian' list in the dictionary"
   ]
  },
  {
   "cell_type": "markdown",
   "metadata": {},
   "source": [
    "**Data Structure Recap:**\n",
    "\n",
    "* ``category_lines``: This dictionary forms the primary data structure, mapping each language category (key) to a list of corresponding names (value). Essentially, it provides a language-indexed organization of all surnames.\n",
    "* ``all_categories``: This auxiliary list maintains a record of all unique language categories encountered in the dataset. While not directly involved in model training, it can be helpful for tracking available languages and performing additional analyses.\n",
    "* ``n_categories``: This integer variable stores the total number of distinct language categories present in the dataset. It provides convenient access to the overall language diversity and can be used in calculations or reporting."
   ]
  },
  {
   "cell_type": "markdown",
   "metadata": {},
   "source": [
    "### Tensor Representation for Character-Level Modeling:\n",
    "\n",
    "To facilitate model training, we transform the textual data into numerical tensors, a format compatible with PyTorch's computational framework. This process involves two key steps:\n",
    "\n",
    "1. **One-Hot Encoding of Letters:**\n",
    "   - Each individual letter is represented by a one-hot vector, a sparse vector of size ``<1 x n_letters>`` containing zeros in all positions except for a single one at the index corresponding to the letter's position in the alphabet, e.g. ``\"b\" = <0 1 0 0 0 ...>``. This encoding effectively captures the discrete nature of letters within a word.\n",
    "\n",
    "2. **Word Matrix Construction:**\n",
    "   - To represent an entire word, we concatenate the one-hot vectors of its constituent letters, forming a 2D matrix with dimensions ``<line_length x 1 x n_letters>``.\n",
    "   - The additional dimension of size 1 is introduced to align with PyTorch's batch processing paradigm, even though we're working with individual words in this context.\n",
    "\n",
    "By employing this tensor-based representation, we enable the model to leverage the rich information embedded within the characters for language classification tasks."
   ]
  },
  {
   "cell_type": "code",
   "execution_count": 9,
   "metadata": {},
   "outputs": [],
   "source": [
    "# Import the PyTorch library for deep learning operations\n",
    "import torch"
   ]
  },
  {
   "cell_type": "code",
   "execution_count": 10,
   "metadata": {},
   "outputs": [],
   "source": [
    "# Define a function to map a letter to its index in the allowed_chars list\n",
    "# e.g. \"a\" = 0\n",
    "def letter_to_index(letter: str) -> int:\n",
    "    \"\"\"Efficiently finds the index of a letter within the allowed_chars list.\n",
    "\n",
    "    Args:\n",
    "        letter (str): The letter to search for.\n",
    "\n",
    "    Returns:\n",
    "        int: The index of the letter, or -1 if not found.\n",
    "    \"\"\"\n",
    "\n",
    "    return allowed_chars.index(letter)  # Use index() for clarity and potential performance benefits"
   ]
  },
  {
   "cell_type": "code",
   "execution_count": 11,
   "metadata": {},
   "outputs": [],
   "source": [
    "# Define a function to create a one-hot tensor for a single letter\n",
    "# e.g. <1 x n_letters> Tensor\n",
    "def letter_to_tensor(letter: str) -> torch.Tensor:\n",
    "    \"\"\"Efficiently creates a one-hot tensor representation for a given letter.\n",
    "\n",
    "    Args:\n",
    "        letter (str): The letter to convert.\n",
    "\n",
    "    Returns:\n",
    "        torch.Tensor: A 1D tensor of shape (1, n_letters) with a 1 at the letter's index.\n",
    "    \"\"\"\n",
    "\n",
    "    tensor = torch.zeros(1, n_letters)      # Create a zero tensor of size (1, n_letters)\n",
    "    tensor[0, letter_to_index(letter)] = 1  # Use direct indexing for clarity\n",
    "    return tensor"
   ]
  },
  {
   "cell_type": "code",
   "execution_count": 12,
   "metadata": {},
   "outputs": [],
   "source": [
    "# Define a function to create a tensor for a whole line (word)\n",
    "# e.g. <line_length x 1 x n_letters>\n",
    "def line_to_tensor(line: str) -> torch.Tensor:\n",
    "    \"\"\"Efficiently creates a 2D tensor representation for a line (word).\n",
    "\n",
    "    Args:\n",
    "        line (str): The line to convert.\n",
    "\n",
    "    Returns:\n",
    "        torch.Tensor: A 2D tensor of shape (line_length, 1, n_letters) representing the word.\n",
    "    \"\"\"\n",
    "\n",
    "    return torch.stack([letter_to_tensor(letter) for letter in line])  # Concisely create the tensor using torch.stack"
   ]
  },
  {
   "cell_type": "code",
   "execution_count": 13,
   "metadata": {
    "collapsed": false,
    "jupyter": {
     "outputs_hidden": false
    }
   },
   "outputs": [
    {
     "name": "stdout",
     "output_type": "stream",
     "text": [
      "One-hot tensor for 'J':\n",
      "tensor([[0., 0., 0., 0., 0., 0., 0., 0., 0., 0., 0., 0., 0., 0., 0., 0., 0., 0.,\n",
      "         0., 0., 0., 0., 0., 0., 0., 0., 0., 0., 0., 0., 0., 0., 0., 0., 0., 1.,\n",
      "         0., 0., 0., 0., 0., 0., 0., 0., 0., 0., 0., 0., 0., 0., 0., 0., 0., 0.,\n",
      "         0., 0., 0.]])\n",
      "Size of tensor for 'Jones': torch.Size([5, 1, 57])\n"
     ]
    }
   ],
   "source": [
    "# Example usage:\n",
    "print(f\"One-hot tensor for 'J':\\n{letter_to_tensor('J')}\")  # Formatted output\n",
    "print(f\"Size of tensor for 'Jones': {line_to_tensor('Jones').size()}\")"
   ]
  },
  {
   "cell_type": "markdown",
   "metadata": {},
   "source": [
    "## Creating the Network\n",
    "\n",
    "**Streamlined RNN Implementation Leveraging Autograd:**\n",
    "\n",
    "In prior versions of Torch, constructing recurrent neural networks (RNNs) hinged upon manual cloning of layer parameters across multiple timesteps. However, the advent of autograd has significantly streamlined this process, enabling a more elegant and efficient approach. By gracefully handling hidden state management and gradient propagation within the computational graph itself, autograd permits the implementation of RNNs as a sequence of straightforward feed-forward layers.\n",
    "\n",
    "**Concise RNN Architecture:**\n",
    "\n",
    "The RNN module in this tutorial, mostly copied from [the PyTorch for Torch users tutorial](https://pytorch.org/tutorials/beginner/former_torchies/nn_tutorial.html#example-2-recurrent-net), showcases this paradigm shift. It comprises a remarkably simple architecture, consisting of:\n",
    "\n",
    "- **Two Linear Layers:** These layers perform primary computations on both input data and hidden state, acting as the core building blocks of the RNN.\n",
    "- **LogSoftmax Layer:** Situated at the output, this layer transforms raw output scores into probabilities for each class, facilitating prediction and interpretation.\n",
    "\n",
    "This refined model demonstrates the power of autograd to simplify RNN design and implementation, fostering a clear and concise approach to character-level modeling."
   ]
  },
  {
   "cell_type": "code",
   "execution_count": 14,
   "metadata": {},
   "outputs": [],
   "source": [
    "# Import the neural network module from PyTorch for building and managing neural network layers\n",
    "import torch.nn as nn"
   ]
  },
  {
   "cell_type": "code",
   "execution_count": 15,
   "metadata": {
    "collapsed": false,
    "jupyter": {
     "outputs_hidden": false
    }
   },
   "outputs": [],
   "source": [
    "# Define the RNN Class:\n",
    "class RNN(nn.Module):  # Create a custom RNN class inheriting from nn.Module\n",
    "    def __init__(self, input_size, hidden_size, output_size):\n",
    "        super(RNN, self).__init__()  # Call the parent class constructor\n",
    "\n",
    "        self.hidden_size = hidden_size  # Store the hidden layer size\n",
    "\n",
    "        # Define the model layers:\n",
    "        self.i2h = nn.Linear(input_size + hidden_size, hidden_size)  # Input-to-hidden layer\n",
    "        self.h2o = nn.Linear(hidden_size, output_size)  # Hidden-to-output layer\n",
    "        self.softmax = nn.LogSoftmax(dim=1)  # LogSoftmax layer for output probabilities\n",
    "\n",
    "    def forward(self, input, hidden):  # Define the forward pass of the model\n",
    "        combined = torch.cat((input, hidden), 1)  # Concatenate input and hidden state\n",
    "        hidden = self.i2h(combined)  # Pass concatenated input through the input-to-hidden layer\n",
    "        output = self.h2o(hidden)  # Pass hidden state through the hidden-to-output layer\n",
    "        output = self.softmax(output)  # Apply LogSoftmax to output for probabilities\n",
    "        return output, hidden  # Return both output and updated hidden state\n",
    "\n",
    "    def initHidden(self):  # Function to initialize hidden state\n",
    "        return torch.zeros(1, self.hidden_size)  # Create a zero tensor for hidden state\n",
    "\n",
    "# Create an RNN Instance:\n",
    "n_hidden = 128  # Set the hidden layer size\n",
    "rnn = RNN(n_letters, n_hidden, n_categories)  # Create an RNN instance with specified dimensions"
   ]
  },
  {
   "cell_type": "markdown",
   "metadata": {},
   "source": [
    "**Executing a Single RNN Step:**\n",
    "\n",
    "To process each letter within a word, the RNN performs the following steps:\n",
    "\n",
    "1. **Input and Hidden State:**\n",
    "   - The model accepts two inputs:\n",
    "     - The tensor representation of the current letter, reflecting the character's unique identity within the word.\n",
    "     - The hidden state carried over from the preceding step, initialized as a zero tensor at the starting point.\n",
    "\n",
    "2. **Internal Calculations:**\n",
    "   - Within its hidden depths, the RNN interweaves these inputs, embarking on a series of computations:\n",
    "     - It joins the letter tensor and hidden state, creating a blend of information.\n",
    "     - This is then passed through a succession of interconnected layers, each designed to extract and amplify the most salient features.\n",
    "     - The hidden state undergoes a transformation, guided by the model's learned parameters to capture the essence of the word's progression.\n",
    "\n",
    "3. **Output and Updated State:**\n",
    "   - The RNN yields two outputs:\n",
    "     - A probability distribution, crafted by the LogSoftmax layer, revealing the model's insights into the language affiliations of the word.\n",
    "     - An updated hidden state, embodying the accumulated knowledge gleaned from previous letters and used to influence the interpretation of those yet to come.\n",
    "\n",
    "4. **Recurrent Flow:**\n",
    "   - This letter processing, output generation, and state preservation continues iteratively, with each step building upon the information of its predecessors, until the word's final letter signals the completion of the RNN."
   ]
  },
  {
   "cell_type": "code",
   "execution_count": 16,
   "metadata": {
    "collapsed": false,
    "jupyter": {
     "outputs_hidden": false
    }
   },
   "outputs": [],
   "source": [
    "input = letter_to_tensor('A')  # Create a one-hot tensor for the letter 'A'\n",
    "hidden = torch.zeros(1, n_hidden)  # Create a zero tensor to represent the initial hidden state\n",
    "\n",
    "output, next_hidden = rnn(input, hidden)  # Run a single step of the RNN, feeding the input and hidden state"
   ]
  },
  {
   "cell_type": "markdown",
   "metadata": {},
   "source": [
    "**Optimizing Input Encoding for Enhanced Efficiency:**\n",
    "\n",
    "To maximize computational efficiency during prediction, we avoid generating a new one-hot tensor for each individual letter within a word. Instead, we leverage the ``line_to_tensor`` function which efficiently processes the entire word as a sequence of characters. This avoids the overhead of repeated tensor creation and manipulation for each letter. Further optimization opportunities lie in the precomputation of word batches as tensors, minimizing runtime overhead through batch processing techniques.\n",
    "\n",
    "By employing these optimization strategies, we ensure streamlined inference and accelerate the model's prediction capabilities."
   ]
  },
  {
   "cell_type": "code",
   "execution_count": 17,
   "metadata": {
    "collapsed": false,
    "jupyter": {
     "outputs_hidden": false
    }
   },
   "outputs": [
    {
     "name": "stdout",
     "output_type": "stream",
     "text": [
      "tensor([[-2.9535, -2.9068, -2.8461, -2.8693, -2.9053, -2.7971, -2.9133, -2.8861,\n",
      "         -2.8666, -2.8098, -2.9473, -2.8708, -2.8259, -2.8734, -2.9011, -2.8886,\n",
      "         -2.9667, -3.0267]], grad_fn=<LogSoftmaxBackward0>)\n"
     ]
    }
   ],
   "source": [
    "input = line_to_tensor('Albert')  # Create a tensor representation for the entire word 'Albert'\n",
    "hidden = torch.zeros(1, n_hidden)  # Create a zero tensor to represent the initial hidden state\n",
    "\n",
    "output, next_hidden = rnn(input[0], hidden)  # Run a single step of the RNN, feeding the first letter tensor and hidden state\n",
    "print(output)  # Display the output probabilities for language categories, based on the first letter"
   ]
  },
  {
   "cell_type": "markdown",
   "metadata": {},
   "source": [
    "**Interpreting Model Output:**\n",
    "\n",
    "The model's output is crafted as a tensor of dimensions ``<1 x n_categories>``, expressing its assessment of the word's language affiliations. Each element within this tensor holds a numerical value, indicating the estimated probability of the word belonging to the corresponding language category. Higher numerical values reflect greater confidence in a particular language association, while lower values suggest a more tenuous connection. By examining this array of probabilities, we gain understanding of the model's insights into the linguistic origins of the word."
   ]
  },
  {
   "cell_type": "markdown",
   "metadata": {},
   "source": [
    "## Training\n",
    "Preparing for Training\n",
    "----------------------\n",
    "\n",
    "To streamline model training and enhance code readability, we'll construct a set of helper functions. The first of these functions, ``category_from_output``, will serve as an interpreter of the model's predictions. It will extract the most likely language category from the output tensor, using the ``Tensor.topk`` method to identify the index corresponding to the highest probability."
   ]
  },
  {
   "cell_type": "code",
   "execution_count": 18,
   "metadata": {},
   "outputs": [],
   "source": [
    "def category_from_output(output: torch.Tensor) -> tuple[str, int]:\n",
    "    \"\"\"Efficiently determines the most likely language category from model output.\n",
    "\n",
    "    Args:\n",
    "        output (torch.Tensor): Model's output tensor of probabilities.\n",
    "\n",
    "    Returns:\n",
    "        tuple[str, int]: Predicted language category and its index.\n",
    "    \"\"\"\n",
    "\n",
    "    # Find the index of the highest probability value:\n",
    "    _, top_i = output.topk(1)  # Extract top index directly\n",
    "    category_i = top_i.item()  # Unpack index from tensor\n",
    "\n",
    "    # Return both the category name and index:\n",
    "    return all_categories[category_i], category_i # Maps index to language category"
   ]
  },
  {
   "cell_type": "code",
   "execution_count": 19,
   "metadata": {
    "collapsed": false,
    "jupyter": {
     "outputs_hidden": false
    }
   },
   "outputs": [
    {
     "name": "stdout",
     "output_type": "stream",
     "text": [
      "Predicted language category: Vietnamese (index: 5)\n"
     ]
    }
   ],
   "source": [
    "# Example usage:\n",
    "# Visually interpret model's prediction for language category:\n",
    "predicted_category, category_index = category_from_output(output)\n",
    "print(f\"Predicted language category: {predicted_category} (index: {category_index})\")"
   ]
  },
  {
   "cell_type": "markdown",
   "metadata": {},
   "source": [
    "For training efficiency, we need a convenient method to access training examples (name-language pairs):"
   ]
  },
  {
   "cell_type": "code",
   "execution_count": 20,
   "metadata": {},
   "outputs": [],
   "source": [
    "# Import the random module to introduce elements of chance and variability\n",
    "import random"
   ]
  },
  {
   "cell_type": "code",
   "execution_count": 21,
   "metadata": {},
   "outputs": [],
   "source": [
    "# Function to randomly select an element from a list\n",
    "def random_choice(l: list) -> any:\n",
    "    \"\"\"Efficiently selects a random element from a list.\n",
    "\n",
    "    Args:\n",
    "        l (list): The list to choose from.\n",
    "\n",
    "    Returns:\n",
    "        Any: A random element from the list.\n",
    "    \"\"\"\n",
    "\n",
    "    return random.choice(l)  # Directly use random.choice for simplicity and efficiency"
   ]
  },
  {
   "cell_type": "code",
   "execution_count": 22,
   "metadata": {},
   "outputs": [],
   "source": [
    "# Function to generate a random training example\n",
    "def random_training_example() -> tuple[str, str, torch.Tensor, torch.Tensor]:\n",
    "    \"\"\"Efficiently generates a random training example for language classification.\n",
    "\n",
    "    Returns:\n",
    "        tuple[str, str, torch.Tensor, torch.Tensor]: A tuple containing:\n",
    "            - category (str): The randomly chosen language category.\n",
    "            - line (str): A randomly selected name from the chosen category.\n",
    "            - category_tensor (torch.Tensor): A tensor representing the category index.\n",
    "            - line_tensor (torch.Tensor): A tensor representing the name as one-hot character vectors.\n",
    "    \"\"\"\n",
    "    # Randomly selects a language category\n",
    "    category = random.choice(all_categories)\n",
    "\n",
    "    # Randomly chooses a name from the selected category\n",
    "    line = random.choice(category_lines[category])\n",
    "\n",
    "    # Creates a tensor for the category index\n",
    "    category_tensor = torch.tensor([all_categories.index(category)], dtype=torch.long) \n",
    "\n",
    "    # Converts the name into a tensor of one-hot character vectors\n",
    "    line_tensor = line_to_tensor(line)\n",
    "\n",
    "    # Returns the category, name, and their tensors\n",
    "    return category, line, category_tensor, line_tensor"
   ]
  },
  {
   "cell_type": "code",
   "execution_count": 23,
   "metadata": {
    "collapsed": false,
    "jupyter": {
     "outputs_hidden": false
    }
   },
   "outputs": [
    {
     "name": "stdout",
     "output_type": "stream",
     "text": [
      "Generated example: Category = Italian, Line = Vitali\n",
      "Generated example: Category = Vietnamese, Line = Trinh\n",
      "Generated example: Category = Portuguese, Line = Silva\n",
      "Generated example: Category = Russian, Line = Shakhlamov\n",
      "Generated example: Category = Japanese, Line = Inukai\n",
      "Generated example: Category = Japanese, Line = Akita\n",
      "Generated example: Category = Chinese, Line = Chai\n",
      "Generated example: Category = Korean, Line = Jeong\n",
      "Generated example: Category = Spanish, Line = Gallego\n",
      "Generated example: Category = Russian, Line = Belnikov\n"
     ]
    }
   ],
   "source": [
    "# Example usage:\n",
    "for _ in range(10):  # Use _ to indicate unused loop variable\n",
    "    category, line, _, _ = random_training_example()  # Unpack only needed values\n",
    "    print(f\"Generated example: Category = {category}, Line = {line}\")  # Formatted output"
   ]
  },
  {
   "cell_type": "markdown",
   "metadata": {},
   "source": [
    "### Training the Network\n",
    "\n",
    "**Initiating Model Training:**\n",
    "\n",
    "- The training process involves iteratively exposing the model to diverse examples, enabling it to refine its knowledge through a feedback loop.\n",
    "- The model generates predictions for each example, and any discrepancies between its estimates and the ground truth are quantified as a loss.\n",
    "- To align with the model's ``nn.LogSoftmax`` output layer, we employ the ``nn.NLLLoss`` function for accurate loss calculation."
   ]
  },
  {
   "cell_type": "code",
   "execution_count": 24,
   "metadata": {
    "collapsed": false,
    "jupyter": {
     "outputs_hidden": false
    }
   },
   "outputs": [],
   "source": [
    "# Instantiate the loss function for measuring prediction errors\n",
    "criterion = nn.NLLLoss()  # Negative log likelihood loss, suitable for LogSoftmax output"
   ]
  },
  {
   "cell_type": "markdown",
   "metadata": {},
   "source": [
    "**The Training Loop:**\n",
    "\n",
    "1. **Prepare Training Data:** Generate input and target tensors representing the name and its true language category.\n",
    "2. **Initialize Hidden State:** Set the hidden state to zero, ready to capture information across the word.\n",
    "3. **Process Letters Sequentially:** Iterate over each letter in the name:\n",
    "    - Pass the current letter and hidden state through the RNN.\n",
    "    - Update the hidden state to hold information for the next letter.\n",
    "4. **Evaluate Prediction:** Compare the final model output with the target language category.\n",
    "5. **Optimize Network:** Calculate the loss and backpropagate through the network, updating its parameters to improve future predictions.\n",
    "6. **Return Performance Metrics:** Collect the output and loss values for analysis and tracking progress."
   ]
  },
  {
   "cell_type": "code",
   "execution_count": 25,
   "metadata": {},
   "outputs": [],
   "source": [
    "# Set the learning rate, a crucial hyperparameter governing model convergence\n",
    "learning_rate = 0.005 # Judiciously selected to balance learning speed and stability\n",
    "                      # If too high, updates might become erratic; if too low, progress might stagnate."
   ]
  },
  {
   "cell_type": "code",
   "execution_count": 26,
   "metadata": {
    "collapsed": false,
    "jupyter": {
     "outputs_hidden": false
    }
   },
   "outputs": [],
   "source": [
    "def train(category_tensor: torch.Tensor, line_tensor: torch.Tensor) -> tuple[torch.Tensor, float]:\n",
    "    \"\"\"Efficiently trains the RNN on a single training example.\n",
    "\n",
    "    Args:\n",
    "        category_tensor (torch.Tensor): Target category tensor.\n",
    "        line_tensor (torch.Tensor): Word tensor as one-hot character vectors.\n",
    "\n",
    "    Returns:\n",
    "        tuple[torch.Tensor, float]: Model's output tensor and calculated loss.\n",
    "    \"\"\"\n",
    "\n",
    "    hidden = rnn.initHidden()  # Initialize hidden state\n",
    "\n",
    "    # Clear gradients for a fresh start\n",
    "    rnn.zero_grad()  # Ensures past gradients don't influence current updates\n",
    "\n",
    "    # Iterate over each letter in the word:\n",
    "    for i in range(line_tensor.size(0)):\n",
    "        output, hidden = rnn(line_tensor[i], hidden)  # Feed the current letter and hidden state to the RNN\n",
    "\n",
    "    # Calculate loss based on prediction and target\n",
    "    loss = criterion(output, category_tensor) # Quantifies prediction error using NLLLoss\n",
    "\n",
    "    # Backpropagate to compute gradients\n",
    "    loss.backward() # Calculates gradients for each parameter\n",
    "\n",
    "    # Update model parameters using calculated gradients\n",
    "    for p in rnn.parameters():\n",
    "        p.data.add_(p.grad.data, alpha=-learning_rate)  # Adjusts parameters to minimize loss\n",
    "\n",
    "    # Return output and loss for monitoring\n",
    "    return output, loss.item()  # Provides insights into model performance"
   ]
  },
  {
   "cell_type": "markdown",
   "metadata": {},
   "source": [
    " **Iteratively Refining Predictions:**\n",
    "\n",
    "- The model's learning is honed through repeated exposure to a multitude of diverse training examples.\n",
    "- During each training iteration, the `train` function yields both model output and loss, enabling us to closely monitor its progress.\n",
    "- While training on thousands of examples, we selectively print predictions and loss values at regular intervals (defined by `print_every`) for efficient feedback and analysis.\n",
    "- To depict long-term trends and mitigate the impact of potential fluctuations, we track the average loss over time, providing a more comprehensive perspective on model performance."
   ]
  },
  {
   "cell_type": "code",
   "execution_count": 27,
   "metadata": {},
   "outputs": [],
   "source": [
    "# Import the time module to measure and manage time-related events\n",
    "import time\n",
    "\n",
    "# Import the math module to access mathematical functions and constants\n",
    "import math"
   ]
  },
  {
   "cell_type": "code",
   "execution_count": 28,
   "metadata": {},
   "outputs": [],
   "source": [
    "# Establish training parameters\n",
    "n_iters = 100000  # Set the total number of training iterations\n",
    "print_every = 5000  # Frequency for printing updates and examples\n",
    "plot_every = 1000  # Frequency for plotting loss values\n",
    "\n",
    "# Initialize variables for tracking and visualizing loss\n",
    "current_loss = 0  # Accumulate loss values within a print_every interval\n",
    "all_losses = []  # Store loss values for analysis and plotting"
   ]
  },
  {
   "cell_type": "code",
   "execution_count": 29,
   "metadata": {},
   "outputs": [],
   "source": [
    "def time_since(since: float) -> str:\n",
    "    \"\"\"Efficiently calculates and formats the time elapsed since a reference point.\n",
    "\n",
    "    Args:\n",
    "        since (float): The reference time in seconds.\n",
    "\n",
    "    Returns:\n",
    "        str: A formatted string representing the elapsed time in minutes and seconds.\n",
    "    \"\"\"\n",
    "\n",
    "    elapsed = time.time() - since  # Calculate elapsed time in seconds\n",
    "    minutes = int(elapsed // 60)  # Extract minutes\n",
    "    seconds = int(elapsed % 60)  # Extract remaining seconds\n",
    "    return f\"{minutes:02d}:{seconds:02d}\"  # Format as MM:SS"
   ]
  },
  {
   "cell_type": "code",
   "execution_count": 30,
   "metadata": {
    "collapsed": false,
    "jupyter": {
     "outputs_hidden": false
    }
   },
   "outputs": [
    {
     "name": "stdout",
     "output_type": "stream",
     "text": [
      "Iteration: 5000 (5.00%)  Time: 00:01  Loss: 2.7263  Name: Hammond  Prediction: Italian ✗ (English)\n",
      "Iteration: 10000 (10.00%)  Time: 00:03  Loss: 1.8419  Name: Vela  Prediction: Spanish ✓\n",
      "Iteration: 15000 (15.00%)  Time: 00:04  Loss: 5.9898  Name: Kokkali  Prediction: Japanese ✗ (Greek)\n",
      "Iteration: 20000 (20.00%)  Time: 00:06  Loss: 1.5756  Name: Santos  Prediction: Greek ✗ (Portuguese)\n",
      "Iteration: 25000 (25.00%)  Time: 00:07  Loss: 1.2748  Name: Delgado  Prediction: Italian ✗ (Spanish)\n",
      "Iteration: 30000 (30.00%)  Time: 00:09  Loss: 3.3617  Name: Cameron  Prediction: French ✗ (Scottish)\n",
      "Iteration: 35000 (35.00%)  Time: 00:10  Loss: 0.5950  Name: Romao  Prediction: Portuguese ✓\n",
      "Iteration: 40000 (40.00%)  Time: 00:12  Loss: 0.2838  Name: Nogushi  Prediction: Japanese ✓\n",
      "Iteration: 45000 (45.00%)  Time: 00:13  Loss: 0.6251  Name: O'Leary  Prediction: Irish ✓\n",
      "Iteration: 50000 (50.00%)  Time: 00:15  Loss: 1.3791  Name: Pinho  Prediction: Japanese ✗ (Portuguese)\n",
      "Iteration: 55000 (55.00%)  Time: 00:17  Loss: 0.6794  Name: Zubizarreta  Prediction: Spanish ✓\n",
      "Iteration: 60000 (60.00%)  Time: 00:18  Loss: 4.4563  Name: Carnegie  Prediction: French ✗ (English)\n",
      "Iteration: 65000 (65.00%)  Time: 00:20  Loss: 1.5736  Name: Elsdon  Prediction: Irish ✗ (English)\n",
      "Iteration: 70000 (70.00%)  Time: 00:21  Loss: 0.1447  Name: Riagan  Prediction: Irish ✓\n",
      "Iteration: 75000 (75.00%)  Time: 00:23  Loss: 1.2695  Name: Spicka  Prediction: Polish ✗ (Czech)\n",
      "Iteration: 80000 (80.00%)  Time: 00:25  Loss: 1.9107  Name: Cavalcante  Prediction: Spanish ✗ (Italian)\n",
      "Iteration: 85000 (85.00%)  Time: 00:26  Loss: 0.7178  Name: Bueren  Prediction: Dutch ✓\n",
      "Iteration: 90000 (90.00%)  Time: 00:28  Loss: 2.5350  Name: Roche  Prediction: French ✗ (English)\n",
      "Iteration: 95000 (95.00%)  Time: 00:29  Loss: 1.0085  Name: Lobo  Prediction: Portuguese ✓\n",
      "Iteration: 100000 (100.00%)  Time: 00:31  Loss: 0.1533  Name: Uboshita  Prediction: Japanese ✓\n"
     ]
    }
   ],
   "source": [
    "# Record the starting time for tracking training duration:\n",
    "start_time = time.time()\n",
    "\n",
    "# Begin the training loop:\n",
    "for iteration in range(1, n_iters + 1):  # Iterate through the specified number of training cycles\n",
    "\n",
    "    # Generate a new training example:\n",
    "    category, line, category_tensor, line_tensor = random_training_example()\n",
    "\n",
    "    # Train the model on the current example:\n",
    "    output, loss = train(category_tensor, line_tensor)\n",
    "\n",
    "    # Accumulate loss for later analysis:\n",
    "    current_loss += loss\n",
    "\n",
    "    # Periodically print progress and insights:\n",
    "    if iteration % print_every == 0:\n",
    "        # Decipher the model's prediction:\n",
    "        guess, guess_i = category_from_output(output)\n",
    "\n",
    "        # Indicate whether the prediction was correct:\n",
    "        accuracy_indicator = '✓' if guess == category else f'✗ ({category})'\n",
    "\n",
    "        # Print a comprehensive progress report:\n",
    "        print(f\"Iteration: {iteration:4d} ({iteration/n_iters*100:.2f}%)  \"\n",
    "              f\"Time: {time_since(start_time)}  Loss: {loss:.4f}  \"\n",
    "              f\"Name: {line}  Prediction: {guess} {accuracy_indicator}\")\n",
    "\n",
    "    # Periodically record loss values for visualization:\n",
    "    if iteration % plot_every == 0:\n",
    "        all_losses.append(current_loss / plot_every)  # Append the average loss over the interval\n",
    "        current_loss = 0  # Reset for the next interval"
   ]
  },
  {
   "cell_type": "markdown",
   "metadata": {},
   "source": [
    "### Plotting the Results\n",
    "\n",
    "Plotting the historical loss from ``all_losses`` shows the network\n",
    "learning:\n",
    "\n",
    "Analyzing the trajectory of ``all_losses`` provides evidence of the network's ongoing learning process."
   ]
  },
  {
   "cell_type": "code",
   "execution_count": 31,
   "metadata": {},
   "outputs": [],
   "source": [
    "# Import the matplotlib.pyplot module and give it a shorter alias for convenience\n",
    "import matplotlib.pyplot as plt\n",
    "\n",
    "# Import the matplotlib.ticker module to customize tick marks on plots\n",
    "import matplotlib.ticker as ticker"
   ]
  },
  {
   "cell_type": "code",
   "execution_count": 32,
   "metadata": {
    "collapsed": false,
    "jupyter": {
     "outputs_hidden": false
    }
   },
   "outputs": [
    {
     "data": {
      "text/plain": [
       "[<matplotlib.lines.Line2D at 0x1500fe440>]"
      ]
     },
     "execution_count": 32,
     "metadata": {},
     "output_type": "execute_result"
    },
    {
     "data": {
      "image/png": "[encoded data removed]",
      "text/plain": [
       "<Figure size 640x480 with 1 Axes>"
      ]
     },
     "metadata": {},
     "output_type": "display_data"
    }
   ],
   "source": [
    "# Create a new empty figure to hold the plot\n",
    "plt.figure()\n",
    "\n",
    "# Plot the values from the 'all_losses' variable as a line plot\n",
    "plt.plot(all_losses)"
   ]
  },
  {
   "cell_type": "markdown",
   "metadata": {},
   "source": [
    "## Evaluating the Results\n",
    "\n",
    " **Confusion matrix will visualize network's performance across languages. Rows represent actual languages, columns represent network's guesses. Evaluate samples using `evaluate()` (similar to `train()` without backprop) to generate the matrix.**"
   ]
  },
  {
   "cell_type": "code",
   "execution_count": 33,
   "metadata": {},
   "outputs": [],
   "source": [
    "# Create a Tensor to store the confusion matrix, initialized with zeros\n",
    "confusion = torch.zeros(n_categories, n_categories)  # Each row/column represents a category\n",
    "\n",
    "# Set the number of samples to use for calculating the confusion matrix\n",
    "n_confusion = 10000"
   ]
  },
  {
   "cell_type": "code",
   "execution_count": 34,
   "metadata": {},
   "outputs": [],
   "source": [
    "def evaluate(line_tensor: torch.Tensor) -> torch.Tensor:\n",
    "    \"\"\"Efficiently processes a line of text using an RNN and returns its final understanding.\n",
    "\n",
    "    Args:\n",
    "        line_tensor (torch.Tensor): A tensor of character codes representing the line.\n",
    "\n",
    "    Returns:\n",
    "        torch.Tensor: The RNN's final output capturing its understanding of the line.\n",
    "    \"\"\"\n",
    "\n",
    "    hidden = rnn.initHidden()  # Initialize hidden state\n",
    "\n",
    "    for char_tensor in line_tensor:  # Iterate through character tensors\n",
    "        output, hidden = rnn(char_tensor, hidden)  # Process characters and update hidden state\n",
    "\n",
    "    return output  # Return the RNN's final output"
   ]
  },
  {
   "cell_type": "code",
   "execution_count": 35,
   "metadata": {},
   "outputs": [],
   "source": [
    "# Loop through a specified number of examples to populate the confusion matrix\n",
    "for i in range(n_confusion):\n",
    "    # Retrieve a random training example with its category and text\n",
    "    category, line, category_tensor, line_tensor = random_training_example()\n",
    "\n",
    "    # Evaluate the line using the RNN to get its prediction\n",
    "    output = evaluate(line_tensor)\n",
    "\n",
    "    # Determine the network's guessed category from the output\n",
    "    guess, guess_i = category_from_output(output)\n",
    "\n",
    "    # Get the numerical index of the actual category\n",
    "    category_i = all_categories.index(category)\n",
    "\n",
    "    # Update the confusion matrix based on the actual and guessed categories\n",
    "    confusion[category_i][guess_i] += 1  # Increment count for this combination"
   ]
  },
  {
   "cell_type": "code",
   "execution_count": 36,
   "metadata": {},
   "outputs": [],
   "source": [
    "# Normalize each row of the confusion matrix to represent proportions\n",
    "for i in range(n_categories):\n",
    "    # Divide each element in the row by the total count in that row\n",
    "    confusion[i] = confusion[i] / confusion[i].sum()  # Values now represent percentages"
   ]
  },
  {
   "cell_type": "code",
   "execution_count": 37,
   "metadata": {
    "collapsed": false,
    "jupyter": {
     "outputs_hidden": false
    }
   },
   "outputs": [
    {
     "data": {
      "image/png": "[encoded data removed]",
      "text/plain": [
       "<Figure size 640x480 with 2 Axes>"
      ]
     },
     "metadata": {},
     "output_type": "display_data"
    }
   ],
   "source": [
    "# Create the plot structure\n",
    "fig, ax = plt.subplots()  # Create a new figure and a single subplot within it\n",
    "\n",
    "# Visualize the confusion matrix\n",
    "cax = ax.matshow(confusion.numpy())  # Display the confusion matrix as a color-coded heatmap\n",
    "fig.colorbar(cax)  # Add a colorbar to the side to interpret the color values in the heatmap\n",
    "\n",
    "# Configure the axes\n",
    "ax.set_xticks(range(len(all_categories)+1))  # Set the x-axis tick positions to cover all categories + 1 extra\n",
    "ax.set_yticks(range(len(all_categories)+1))  # Set the y-axis tick positions similarly\n",
    "\n",
    "ax.set_xticklabels(all_categories + [''], rotation=90)  # Add category labels to x-axis ticks, rotated 90 degrees\n",
    "ax.set_yticklabels(all_categories + [''])  # Add category labels to y-axis ticks\n",
    "\n",
    "# Ensure a label for each category (not strictly necessary now, but can be kept for clarity)\n",
    "ax.xaxis.set_major_locator(ticker.MultipleLocator(1))  # Force a tick mark at every integer position on x-axis\n",
    "ax.yaxis.set_major_locator(ticker.MultipleLocator(1))  # Force a tick mark at every integer position on y-axis\n",
    "\n",
    "plt.show()  # Display the plot"
   ]
  },
  {
   "cell_type": "markdown",
   "metadata": {},
   "source": [
    "The network's performance varies across different languages. We can observe areas where it excels, like Greek, and others where it faces challenges, such as English (potentially due to similarities with other languages)."
   ]
  },
  {
   "cell_type": "markdown",
   "metadata": {},
   "source": [
    "### Running on User Input\n",
    "\n",
    "\n"
   ]
  },
  {
   "cell_type": "code",
   "execution_count": 38,
   "metadata": {},
   "outputs": [],
   "source": [
    "def predict(input_line: str, n_predictions: int = 3) -> list[tuple[float, str]]:\n",
    "    \"\"\"Efficiently predicts language categories for an input line and returns top predictions.\n",
    "\n",
    "    Args:\n",
    "        input_line (str): The line of text to predict.\n",
    "        n_predictions (int, optional): Number of top predictions to return. Defaults to 3.\n",
    "\n",
    "    Returns:\n",
    "        list[tuple[float, str]]: List of (prediction value, category) tuples.\n",
    "    \"\"\"\n",
    "\n",
    "    print(f\"\\n> {input_line}\")  # Display the input line\n",
    "\n",
    "    with torch.no_grad():  # Temporarily disable gradients for efficiency\n",
    "        output = evaluate(line_to_tensor(input_line))  # Evaluate using the model\n",
    "        top_values, top_indices = output.topk(n_predictions, 1, True)  # Get top predictions\n",
    "\n",
    "    predictions = [(value.item(), all_categories[index.item()])\n",
    "                   for value, index in zip(top_values[0], top_indices[0])]  # Create prediction list\n",
    "\n",
    "    for prediction_value, category in predictions:  # Print predictions\n",
    "        print(f\"({prediction_value:.2f}) {category}\")\n",
    "\n",
    "    return predictions  # Return the list of top predictions"
   ]
  },
  {
   "cell_type": "code",
   "execution_count": 39,
   "metadata": {
    "collapsed": false,
    "jupyter": {
     "outputs_hidden": false
    }
   },
   "outputs": [
    {
     "name": "stdout",
     "output_type": "stream",
     "text": [
      "\n",
      "> Dovesky\n",
      "(-0.92) Czech\n",
      "(-1.11) Russian\n",
      "(-2.34) English\n",
      "\n",
      "> Jackson\n",
      "(-0.34) Scottish\n",
      "(-1.98) English\n",
      "(-3.54) German\n",
      "\n",
      "> Satoshi\n",
      "(-1.04) Japanese\n",
      "(-1.12) Arabic\n",
      "(-1.78) Greek\n"
     ]
    },
    {
     "data": {
      "text/plain": [
       "[(-1.0359770059585571, 'Japanese'),\n",
       " (-1.1195484399795532, 'Arabic'),\n",
       " (-1.7802320718765259, 'Greek')]"
      ]
     },
     "execution_count": 39,
     "metadata": {},
     "output_type": "execute_result"
    }
   ],
   "source": [
    "# Predict the language of the name 'Dovesky' and print the top 3 predictions\n",
    "predict('Dovesky')\n",
    "\n",
    "# Predict the language of the name 'Jackson' and print the top 3 predictions\n",
    "predict('Jackson')\n",
    "\n",
    "# Predict the language of the name 'Satoshi' and print the top 3 predictions\n",
    "predict('Satoshi')"
   ]
  },
  {
   "cell_type": "markdown",
   "metadata": {},
   "source": [
    "### Congratulations! You have completed the tutorial."
   ]
  }
 ],
 "metadata": {
  "kernelspec": {
   "display_name": "Python 3 (ipykernel)",
   "language": "python",
   "name": "python3"
  },
  "language_info": {
   "codemirror_mode": {
    "name": "ipython",
    "version": 3
   },
   "file_extension": ".py",
   "mimetype": "text/x-python",
   "name": "python",
   "nbconvert_exporter": "python",
   "pygments_lexer": "ipython3",
   "version": "3.10.13"
  }
 },
 "nbformat": 4,
 "nbformat_minor": 4
}
